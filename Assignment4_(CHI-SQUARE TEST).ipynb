{
 "cells": [
  {
   "cell_type": "markdown",
   "id": "01c223da",
   "metadata": {},
   "source": [
    "## Association between Device Type and Customer Satisfaction\n",
    "### Background:\n",
    "Mizzare Corporation has collected data on customer satisfaction levels for two types of smart home devices: Smart Thermostats and Smart Lights. They want to determine if there's a significant association between the type of device purchased and the customer's satisfaction level.\n",
    "### Data Provided:\n",
    "The data is summarized in a contingency table showing the counts of customers in each satisfaction level for both types of devices:\n",
    "Satisfaction\t(Smart Thermostat)\t(Smart Light)\t(Total)\n",
    "Very Satisfied\t      50                  70\t     120\n",
    "Satisfied\t          80\t             100         180\n",
    "Neutral               60                  90         150\n",
    "Unsatisfied\t          30\t              50          80\n",
    "Very Unsatisfied\t  20                  50\t      70\n",
    "Total\t             240                 360         600\n",
    "### Objective:\n",
    "To use the Chi-Square test for independence to determine if there's a significant association between the type of smart home device purchased (Smart Thermostats vs. Smart Lights) and the customer satisfaction level.\n",
    "#### Assignment Tasks:\n",
    "1. State the Hypotheses:\n",
    "2. Compute the Chi-Square Statistic:\n",
    "3. Determine the Critical Value:\n",
    "Using the significance level (alpha) of 0.05 and the degrees of freedom (which is the number of categories minus 1)\n",
    "4. Make a Decision:\n",
    "Compare the Chi-Square statistic with the critical value to decide whether to reject the null hypothesis."
   ]
  },
  {
   "cell_type": "markdown",
   "id": "1f61a722",
   "metadata": {},
   "source": [
    "##### 1. State the Hypothesis:"
   ]
  },
  {
   "cell_type": "markdown",
   "id": "3d70f9ce",
   "metadata": {},
   "source": [
    "Hypothesis is assumption without experimental evidence.\n",
    "steps\n",
    "1. Formulate Hypothesis i.e Ho(null hypothesis) & Ha(alternative hypothesis) .Ho is opposite of Ha.\n",
    "2. Decide cut-off where default cut-off is α= 0.05.\n",
    "3. collect evidence from sample.\n",
    "4. compare evidence & sample to α.\n",
    "   if p<α Reject or if p<α Accept\n",
    "5. Accept/Reject Ho (Reverse way of proving i.e proof by controduction)"
   ]
  },
  {
   "cell_type": "markdown",
   "id": "d821c849",
   "metadata": {},
   "source": [
    "+ **Null Hypothesis** There is no significant relationship between device type and satisfaction level.\n",
    "\n",
    "+ **Alternate Hypothesis** There is a significant relationship between device type and satisfaction level."
   ]
  },
  {
   "cell_type": "markdown",
   "id": "9515c9b9",
   "metadata": {},
   "source": [
    "##### 2. Compute the Chi-Square Statistic:"
   ]
  },
  {
   "cell_type": "code",
   "execution_count": 1,
   "id": "d90f4228",
   "metadata": {},
   "outputs": [],
   "source": [
    "import scipy.stats as stats\n",
    "import numpy as np"
   ]
  },
  {
   "cell_type": "code",
   "execution_count": 2,
   "id": "61732028",
   "metadata": {},
   "outputs": [],
   "source": [
    "# Observed data (contingency table)\n",
    "data = np.array([\n",
    "    [50, 70],   # Very Satisfied\n",
    "    [80, 100],  # Satisfied\n",
    "    [60, 90],   # Neutral\n",
    "    [30, 50],   # Unsatisfied\n",
    "    [20, 50]    # Very Unsatisfied\n",
    "])"
   ]
  },
  {
   "cell_type": "code",
   "execution_count": 3,
   "id": "46b1f82c",
   "metadata": {},
   "outputs": [
    {
     "name": "stdout",
     "output_type": "stream",
     "text": [
      "4\n",
      "0.22784371130697179\n"
     ]
    }
   ],
   "source": [
    "# Perform the chi-square test\n",
    "stat, p, dof, expected = stats.chi2_contingency(data)\n",
    "print( dof)\n",
    "print(p)"
   ]
  },
  {
   "cell_type": "code",
   "execution_count": 4,
   "id": "a97c298a",
   "metadata": {},
   "outputs": [
    {
     "data": {
      "text/plain": [
       "array([[ 48.,  72.],\n",
       "       [ 72., 108.],\n",
       "       [ 60.,  90.],\n",
       "       [ 32.,  48.],\n",
       "       [ 28.,  42.]])"
      ]
     },
     "execution_count": 4,
     "metadata": {},
     "output_type": "execute_result"
    }
   ],
   "source": [
    "expected"
   ]
  },
  {
   "cell_type": "markdown",
   "id": "cff87760",
   "metadata": {},
   "source": [
    "##### 3. Determine the Critical Value: Using the significance level (alpha) of 0.05 and the degrees of freedom "
   ]
  },
  {
   "cell_type": "code",
   "execution_count": 5,
   "id": "128ff235",
   "metadata": {},
   "outputs": [
    {
     "name": "stdout",
     "output_type": "stream",
     "text": [
      "significance=0.050, p=0.228\n"
     ]
    }
   ],
   "source": [
    "# interpret p-value\n",
    "alpha = 0.05\n",
    "print('significance=%.3f, p=%.3f' % (alpha, p))"
   ]
  },
  {
   "cell_type": "markdown",
   "id": "77536fc8",
   "metadata": {},
   "source": [
    "##### 4. Make a Decision: Compare the Chi-Square statistic with the critical value to decide whether to reject the null hypothesis."
   ]
  },
  {
   "cell_type": "code",
   "execution_count": 6,
   "id": "72b9c3c5",
   "metadata": {},
   "outputs": [
    {
     "name": "stdout",
     "output_type": "stream",
     "text": [
      "Fail to Reject Null Hypothesis - There is no significant association between device type and satisfaction level.\n"
     ]
    }
   ],
   "source": [
    "if p <= alpha:\n",
    "    print('Reject Null Hypothesis - There is a significant association between device type and satisfaction level.')\n",
    "else:\n",
    "    print('Fail to Reject Null Hypothesis - There is no significant association between device type and satisfaction level.')\n"
   ]
  }
 ],
 "metadata": {
  "kernelspec": {
   "display_name": "Python 3 (ipykernel)",
   "language": "python",
   "name": "python3"
  },
  "language_info": {
   "codemirror_mode": {
    "name": "ipython",
    "version": 3
   },
   "file_extension": ".py",
   "mimetype": "text/x-python",
   "name": "python",
   "nbconvert_exporter": "python",
   "pygments_lexer": "ipython3",
   "version": "3.10.9"
  }
 },
 "nbformat": 4,
 "nbformat_minor": 5
}
