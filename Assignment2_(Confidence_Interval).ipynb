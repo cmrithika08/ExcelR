{
 "cells": [
  {
   "cell_type": "markdown",
   "id": "ade8c519",
   "metadata": {},
   "source": [
    "## Estimation And Confidence Intervals\n",
    "\n",
    "### Background\n",
    "In quality control processes, especially when dealing with high-value items, destructive sampling is a necessary but costly method to ensure product quality. The test to determine whether an item meets the quality standards destroys the item, leading to the requirement of small sample sizes due to cost constraints.\n",
    "### Scenario\n",
    "A manufacturer of print-heads for personal computers is interested in estimating the mean durability of their print-heads in terms of the number of characters printed before failure. To assess this, the manufacturer conducts a study on a small sample of print-heads due to the destructive nature of the testing process.\n",
    "### Data\n",
    "A total of 15 print-heads were randomly selected and tested until failure. The durability of each print-head (in millions of characters) was recorded as follows:\n",
    "1.13, 1.55, 1.43, 0.92, 1.25, 1.36, 1.32, 0.85, 1.07, 1.48, 1.20, 1.33, 1.18, 1.22, 1.29\n"
   ]
  },
  {
   "cell_type": "markdown",
   "id": "b1a3a26d",
   "metadata": {},
   "source": [
    "## Assignment Tasks\n"
   ]
  },
  {
   "cell_type": "markdown",
   "id": "fbe1b852",
   "metadata": {},
   "source": [
    "a. Build 99% Confidence Interval Using Sample Standard Deviation\n",
    "Assuming the sample is representative of the population, construct a 99% confidence interval for the mean number of characters printed before the print-head fails using the sample standard deviation. Explain the steps you take and the rationale behind using the t-distribution for this task."
   ]
  },
  {
   "cell_type": "code",
   "execution_count": 14,
   "id": "e1b5f259",
   "metadata": {},
   "outputs": [],
   "source": [
    "from scipy import stats\n",
    "import numpy as np\n",
    "import pandas as pd"
   ]
  },
  {
   "cell_type": "code",
   "execution_count": 15,
   "id": "a0084bf2",
   "metadata": {},
   "outputs": [],
   "source": [
    "data = [1.13, 1.55, 1.43, 0.92, 1.25, 1.36, 1.32, 0.85, 1.07, 1.48, 1.20, 1.33, 1.18, 1.22, 1.29]\n",
    "confidence_level = 0.99"
   ]
  },
  {
   "cell_type": "code",
   "execution_count": 16,
   "id": "34f1595a",
   "metadata": {},
   "outputs": [
    {
     "name": "stdout",
     "output_type": "stream",
     "text": [
      "15\n",
      "14\n"
     ]
    }
   ],
   "source": [
    "# Sample size\n",
    "n = len(data)\n",
    "print(n)\n",
    "# Degrees of freedom\n",
    "df = n - 1\n",
    "print(df)"
   ]
  },
  {
   "cell_type": "code",
   "execution_count": 17,
   "id": "1a964c38",
   "metadata": {},
   "outputs": [
    {
     "name": "stdout",
     "output_type": "stream",
     "text": [
      "1.2386666666666666\n"
     ]
    }
   ],
   "source": [
    "# mean\n",
    "mean = np.mean(data)\n",
    "print(mean)"
   ]
  },
  {
   "cell_type": "code",
   "execution_count": 18,
   "id": "f2ffe203",
   "metadata": {},
   "outputs": [
    {
     "name": "stdout",
     "output_type": "stream",
     "text": [
      "0.04987476379384733\n"
     ]
    }
   ],
   "source": [
    "# standard error\n",
    "std_dev = np.std(data, ddof=1)\n",
    "standard_error = std_dev / np.sqrt(n)\n",
    "print(standard_error)"
   ]
  },
  {
   "cell_type": "code",
   "execution_count": 40,
   "id": "e434753d",
   "metadata": {},
   "outputs": [
    {
     "data": {
      "text/plain": [
       "2.97684273411266"
      ]
     },
     "execution_count": 40,
     "metadata": {},
     "output_type": "execute_result"
    }
   ],
   "source": [
    "# since we dont know standard deciation we use t_score \n",
    "t_score = stats.t.ppf((1 + confidence_level) / 2, df)\n",
    "t_score"
   ]
  },
  {
   "cell_type": "code",
   "execution_count": 41,
   "id": "730ab876",
   "metadata": {},
   "outputs": [
    {
     "data": {
      "text/plain": [
       "(1.090197338451367, 1.3871359948819662)"
      ]
     },
     "execution_count": 41,
     "metadata": {},
     "output_type": "execute_result"
    }
   ],
   "source": [
    "# confidence Interval\n",
    "confident = stats.t.interval(confidence_level,df,loc=mean, scale=standard_error)\n",
    "confident"
   ]
  },
  {
   "cell_type": "markdown",
   "id": "364b3df9",
   "metadata": {},
   "source": [
    "### conclusion\n",
    "###### The 99% confidence interval for the mean durability of the print-heads is between 1.09 million and 1.39 million characters. I have used  t-distribution because the sample size is small (15 data points) and the population standard deviation is unknown. The t-distribution accounts for the increased variability in small samples, providing a more accurate estimate of the population mean."
   ]
  },
  {
   "cell_type": "markdown",
   "id": "e69eb963",
   "metadata": {},
   "source": [
    "b. Build 99% Confidence Interval Using Known Population Standard Deviation\n",
    "If it were known that the population standard deviation is 0.2 million characters, construct a 99% confidence interval for the mean number of characters printed before failure."
   ]
  },
  {
   "cell_type": "code",
   "execution_count": 42,
   "id": "c4b29065",
   "metadata": {},
   "outputs": [],
   "source": [
    "from scipy import stats\n",
    "import numpy as np"
   ]
  },
  {
   "cell_type": "code",
   "execution_count": 43,
   "id": "572c12f1",
   "metadata": {},
   "outputs": [
    {
     "data": {
      "text/plain": [
       "2.5758293035489004"
      ]
     },
     "execution_count": 43,
     "metadata": {},
     "output_type": "execute_result"
    }
   ],
   "source": [
    "# since we know standard deciation = 0.2 we use z_score\n",
    "z_score = stats.norm.ppf((1 + confidence_level) / 2)\n",
    "z_score"
   ]
  },
  {
   "cell_type": "code",
   "execution_count": 44,
   "id": "4234fa8d",
   "metadata": {},
   "outputs": [
    {
     "data": {
      "text/plain": [
       "(0.7235008059568865, 1.7538325273764466)"
      ]
     },
     "execution_count": 44,
     "metadata": {},
     "output_type": "execute_result"
    }
   ],
   "source": [
    "# confidence Interval \n",
    "confident = stats.norm.interval(confidence_level,loc=mean, scale=0.2)\n",
    "confident"
   ]
  },
  {
   "cell_type": "markdown",
   "id": "00c0158c",
   "metadata": {},
   "source": [
    "### conclusion\n",
    "###### The 99% confidence interval for the mean durability of the print-heads is between 0.72 million and 1.75 million characters. I have used the normal distribution because the population standard deviation (0.2 million characters) is known. The normal distribution is appropriate when the population standard deviation is known and the sample size is relatively small, providing a reliable estimate for the population mean within the given confidence level."
   ]
  }
 ],
 "metadata": {
  "kernelspec": {
   "display_name": "Python 3 (ipykernel)",
   "language": "python",
   "name": "python3"
  },
  "language_info": {
   "codemirror_mode": {
    "name": "ipython",
    "version": 3
   },
   "file_extension": ".py",
   "mimetype": "text/x-python",
   "name": "python",
   "nbconvert_exporter": "python",
   "pygments_lexer": "ipython3",
   "version": "3.10.9"
  }
 },
 "nbformat": 4,
 "nbformat_minor": 5
}
