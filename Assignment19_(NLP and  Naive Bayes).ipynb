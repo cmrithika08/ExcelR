{
 "cells": [
  {
   "cell_type": "markdown",
   "id": "d074b144",
   "metadata": {},
   "source": [
    "# TEXT CLASSIFICATION USING NAIVE BAYES AND SENTIMENT ANALYSIS ON BLOG POSTS\n",
    "Overview\n",
    "In this assignment, you will work on the \"blogs_categories.csv\" dataset, which contains blog posts categorized into various themes. Your task will be to build a text classification model using the Naive Bayes algorithm to categorize the blog posts accurately. Furthermore, you will perform sentiment analysis to understand the general sentiment (positive, negative, neutral) expressed in these posts. This assignment will enhance your understanding of text classification, sentiment analysis, and the practical application of the Naive Bayes algorithm in Natural Language Processing (NLP).\n",
    "Dataset\n",
    "The provided dataset, \"blogs_categories.csv\", consists of blog posts along with their associated categories. Each row represents a blog post with the following columns:\n",
    "•\tText: The content of the blog post. Column name: Data\n",
    "•\tCategory: The category to which the blog post belongs. Column name: Labels\n",
    "### Tasks\n",
    "1. Data Exploration and Preprocessing\n",
    "+ Load the \"blogs_categories.csv\" dataset and perform an exploratory data analysis to understand its structure and content.\n",
    "+ Preprocess the data by cleaning the text (removing punctuation, converting to lowercase, etc.), tokenizing, and removing stopwords.\n",
    "+ Perform feature extraction to convert text data into a format that can be used by the Naive Bayes model, using techniques such as TF-IDF.\n",
    "2. Naive Bayes Model for Text Classification\n",
    "+ Split the data into training and test sets.\n",
    "+ Implement a Naive Bayes classifier to categorize the blog posts into their respective categories. You can use libraries like scikit-learn for this purpose.\n",
    "+ Train the model on the training set and make predictions on the test set.\n",
    "3. Sentiment Analysis\n",
    "+ Choose a suitable library or method for performing sentiment analysis on the blog post texts.\n",
    "+ Analyze the sentiments expressed in the blog posts and categorize them as positive, negative, or neutral. Consider only the Data column and get the sentiment for each blog.\n",
    "+ Examine the distribution of sentiments across different categories and summarize your findings.\n",
    "4. Evaluation\n",
    "+ Evaluate the performance of your Naive Bayes classifier using metrics such as accuracy, precision, recall, and F1-score.\n",
    "+ Discuss the performance of the model and any challenges encountered during the classification process.\n",
    "+ Reflect on the sentiment analysis results and their implications regarding the content of the blog posts.\n",
    "\n",
    "###### Submission Guidelines\n",
    "•\tYour submission should include a comprehensive report and the complete codebase.\n",
    "•\tYour code should be well-documented and include comments explaining the major steps.\n",
    "###### Evaluation Criteria\n",
    "•\tCorrect implementation of data preprocessing and feature extraction.\n",
    "•\tAccuracy and robustness of the Naive Bayes classification model.\n",
    "•\tDepth and insightfulness of the sentiment analysis.\n",
    "•\tClarity and thoroughness of the evaluation and discussion sections.\n",
    "•\tOverall quality and organization of the report and code.\n",
    "Good luck, and we look forward to your insightful analysis of the blog posts dataset!\n",
    "\n",
    "\n"
   ]
  },
  {
   "cell_type": "markdown",
   "id": "d3eb5b97",
   "metadata": {},
   "source": [
    "### 1. Data Exploration and Preprocessing\n",
    "+ Load the \"blogs_categories.csv\" dataset and perform an exploratory data analysis to understand its structure and content.\n",
    "+ Preprocess the data by cleaning the text (removing punctuation, converting to lowercase, etc.), tokenizing, and removing stopwords.\n",
    "+ Perform feature extraction to convert text data into a format that can be used by the Naive Bayes model, using techniques such as TF-IDF."
   ]
  },
  {
   "cell_type": "markdown",
   "id": "d6526ca2",
   "metadata": {},
   "source": [
    "###### Load the \"blogs_categories.csv\" dataset and perform an exploratory data analysis to understand its structure and content."
   ]
  },
  {
   "cell_type": "code",
   "execution_count": 1,
   "id": "fae27c15",
   "metadata": {},
   "outputs": [],
   "source": [
    "import pandas as pd\n",
    "import re\n",
    "# Loading dataset\n",
    "data = pd.read_csv(\"blogs.csv\",encoding = \"latin1\")"
   ]
  },
  {
   "cell_type": "code",
   "execution_count": 2,
   "id": "1e6c8ae1",
   "metadata": {},
   "outputs": [
    {
     "name": "stdout",
     "output_type": "stream",
     "text": [
      "<class 'pandas.core.frame.DataFrame'>\n",
      "RangeIndex: 2000 entries, 0 to 1999\n",
      "Data columns (total 2 columns):\n",
      " #   Column  Non-Null Count  Dtype \n",
      "---  ------  --------------  ----- \n",
      " 0   Data    2000 non-null   object\n",
      " 1   Labels  2000 non-null   object\n",
      "dtypes: object(2)\n",
      "memory usage: 31.4+ KB\n"
     ]
    }
   ],
   "source": [
    "# Displaying the dataset structure\n",
    "data.info()"
   ]
  },
  {
   "cell_type": "code",
   "execution_count": 3,
   "id": "71793b32",
   "metadata": {},
   "outputs": [
    {
     "data": {
      "text/html": [
       "<div>\n",
       "<style scoped>\n",
       "    .dataframe tbody tr th:only-of-type {\n",
       "        vertical-align: middle;\n",
       "    }\n",
       "\n",
       "    .dataframe tbody tr th {\n",
       "        vertical-align: top;\n",
       "    }\n",
       "\n",
       "    .dataframe thead th {\n",
       "        text-align: right;\n",
       "    }\n",
       "</style>\n",
       "<table border=\"1\" class=\"dataframe\">\n",
       "  <thead>\n",
       "    <tr style=\"text-align: right;\">\n",
       "      <th></th>\n",
       "      <th>Data</th>\n",
       "      <th>Labels</th>\n",
       "    </tr>\n",
       "  </thead>\n",
       "  <tbody>\n",
       "    <tr>\n",
       "      <th>0</th>\n",
       "      <td>Path: cantaloupe.srv.cs.cmu.edu!magnesium.club...</td>\n",
       "      <td>alt.atheism</td>\n",
       "    </tr>\n",
       "    <tr>\n",
       "      <th>1</th>\n",
       "      <td>Newsgroups: alt.atheism\\nPath: cantaloupe.srv....</td>\n",
       "      <td>alt.atheism</td>\n",
       "    </tr>\n",
       "    <tr>\n",
       "      <th>2</th>\n",
       "      <td>Path: cantaloupe.srv.cs.cmu.edu!das-news.harva...</td>\n",
       "      <td>alt.atheism</td>\n",
       "    </tr>\n",
       "    <tr>\n",
       "      <th>3</th>\n",
       "      <td>Path: cantaloupe.srv.cs.cmu.edu!magnesium.club...</td>\n",
       "      <td>alt.atheism</td>\n",
       "    </tr>\n",
       "    <tr>\n",
       "      <th>4</th>\n",
       "      <td>Xref: cantaloupe.srv.cs.cmu.edu alt.atheism:53...</td>\n",
       "      <td>alt.atheism</td>\n",
       "    </tr>\n",
       "  </tbody>\n",
       "</table>\n",
       "</div>"
      ],
      "text/plain": [
       "                                                Data       Labels\n",
       "0  Path: cantaloupe.srv.cs.cmu.edu!magnesium.club...  alt.atheism\n",
       "1  Newsgroups: alt.atheism\\nPath: cantaloupe.srv....  alt.atheism\n",
       "2  Path: cantaloupe.srv.cs.cmu.edu!das-news.harva...  alt.atheism\n",
       "3  Path: cantaloupe.srv.cs.cmu.edu!magnesium.club...  alt.atheism\n",
       "4  Xref: cantaloupe.srv.cs.cmu.edu alt.atheism:53...  alt.atheism"
      ]
     },
     "execution_count": 3,
     "metadata": {},
     "output_type": "execute_result"
    }
   ],
   "source": [
    "data.head()"
   ]
  },
  {
   "cell_type": "code",
   "execution_count": 4,
   "id": "f8427068",
   "metadata": {},
   "outputs": [
    {
     "data": {
      "text/plain": [
       "Data      0\n",
       "Labels    0\n",
       "dtype: int64"
      ]
     },
     "execution_count": 4,
     "metadata": {},
     "output_type": "execute_result"
    }
   ],
   "source": [
    "# Checking for missing values\n",
    "data.isnull().sum()"
   ]
  },
  {
   "cell_type": "markdown",
   "id": "e1d7796a",
   "metadata": {},
   "source": [
    "###### Preprocess the data by cleaning the text (removing punctuation, converting to lowercase, etc.), tokenizing, and removing stopwords."
   ]
  },
  {
   "cell_type": "code",
   "execution_count": 5,
   "id": "2baeffd5",
   "metadata": {},
   "outputs": [],
   "source": [
    "# Defining fuction to delete the\n",
    "def clean(Data):\n",
    "    Data = Data.lower()\n",
    "    Data = re.sub('[^A-Za-z]',' ',Data)\n",
    "    return Data"
   ]
  },
  {
   "cell_type": "code",
   "execution_count": 6,
   "id": "6eda828d",
   "metadata": {},
   "outputs": [
    {
     "data": {
      "text/plain": [
       "0       path  cantaloupe srv cs cmu edu magnesium club...\n",
       "1       newsgroups  alt atheism path  cantaloupe srv c...\n",
       "2       path  cantaloupe srv cs cmu edu das news harva...\n",
       "3       path  cantaloupe srv cs cmu edu magnesium club...\n",
       "4       xref  cantaloupe srv cs cmu edu alt atheism   ...\n",
       "                              ...                        \n",
       "1995    xref  cantaloupe srv cs cmu edu talk abortion ...\n",
       "1996    xref  cantaloupe srv cs cmu edu talk religion ...\n",
       "1997    xref  cantaloupe srv cs cmu edu talk origins  ...\n",
       "1998    xref  cantaloupe srv cs cmu edu talk religion ...\n",
       "1999    xref  cantaloupe srv cs cmu edu sci skeptic   ...\n",
       "Name: Data, Length: 2000, dtype: object"
      ]
     },
     "execution_count": 6,
     "metadata": {},
     "output_type": "execute_result"
    }
   ],
   "source": [
    "# Removing the Punctuations, numbers, special characters from text\n",
    "data['Data'] = data['Data'].apply(clean)\n",
    "data['Data']"
   ]
  },
  {
   "cell_type": "code",
   "execution_count": 7,
   "id": "b74eeda0",
   "metadata": {},
   "outputs": [],
   "source": [
    "# Removing the stopwords like 'the','is','and' from text.\n",
    "import nltk\n",
    "from nltk.corpus import stopwords\n",
    "stop = stopwords.words('english')"
   ]
  },
  {
   "cell_type": "code",
   "execution_count": 8,
   "id": "94a5fc61",
   "metadata": {},
   "outputs": [],
   "source": [
    "# Defining a fuction for removal of stopwords.\n",
    "def remove_stop(x):\n",
    "    word_list = x.split()\n",
    "    clean_list = [w for w in word_list if not w in stop]\n",
    "    clean_txt = ' '.join(clean_list)\n",
    "    return clean_txt"
   ]
  },
  {
   "cell_type": "code",
   "execution_count": 9,
   "id": "80577ea0",
   "metadata": {},
   "outputs": [],
   "source": [
    "data['Data'] = data['Data'].apply(remove_stop)"
   ]
  },
  {
   "cell_type": "code",
   "execution_count": 10,
   "id": "ca6532e2",
   "metadata": {},
   "outputs": [
    {
     "data": {
      "text/html": [
       "<div>\n",
       "<style scoped>\n",
       "    .dataframe tbody tr th:only-of-type {\n",
       "        vertical-align: middle;\n",
       "    }\n",
       "\n",
       "    .dataframe tbody tr th {\n",
       "        vertical-align: top;\n",
       "    }\n",
       "\n",
       "    .dataframe thead th {\n",
       "        text-align: right;\n",
       "    }\n",
       "</style>\n",
       "<table border=\"1\" class=\"dataframe\">\n",
       "  <thead>\n",
       "    <tr style=\"text-align: right;\">\n",
       "      <th></th>\n",
       "      <th>Data</th>\n",
       "      <th>Labels</th>\n",
       "    </tr>\n",
       "  </thead>\n",
       "  <tbody>\n",
       "    <tr>\n",
       "      <th>0</th>\n",
       "      <td>path cantaloupe srv cs cmu edu magnesium club ...</td>\n",
       "      <td>alt.atheism</td>\n",
       "    </tr>\n",
       "    <tr>\n",
       "      <th>1</th>\n",
       "      <td>newsgroups alt atheism path cantaloupe srv cs ...</td>\n",
       "      <td>alt.atheism</td>\n",
       "    </tr>\n",
       "    <tr>\n",
       "      <th>2</th>\n",
       "      <td>path cantaloupe srv cs cmu edu das news harvar...</td>\n",
       "      <td>alt.atheism</td>\n",
       "    </tr>\n",
       "    <tr>\n",
       "      <th>3</th>\n",
       "      <td>path cantaloupe srv cs cmu edu magnesium club ...</td>\n",
       "      <td>alt.atheism</td>\n",
       "    </tr>\n",
       "    <tr>\n",
       "      <th>4</th>\n",
       "      <td>xref cantaloupe srv cs cmu edu alt atheism tal...</td>\n",
       "      <td>alt.atheism</td>\n",
       "    </tr>\n",
       "  </tbody>\n",
       "</table>\n",
       "</div>"
      ],
      "text/plain": [
       "                                                Data       Labels\n",
       "0  path cantaloupe srv cs cmu edu magnesium club ...  alt.atheism\n",
       "1  newsgroups alt atheism path cantaloupe srv cs ...  alt.atheism\n",
       "2  path cantaloupe srv cs cmu edu das news harvar...  alt.atheism\n",
       "3  path cantaloupe srv cs cmu edu magnesium club ...  alt.atheism\n",
       "4  xref cantaloupe srv cs cmu edu alt atheism tal...  alt.atheism"
      ]
     },
     "execution_count": 10,
     "metadata": {},
     "output_type": "execute_result"
    }
   ],
   "source": [
    "data.head()"
   ]
  },
  {
   "cell_type": "code",
   "execution_count": 11,
   "id": "f614686c",
   "metadata": {},
   "outputs": [],
   "source": [
    "import pandas as pd\n",
    "from nltk.tokenize import word_tokenize\n",
    "\n",
    "# Defining a fuction to tolenize the data i.e its the process of breaking text into smaller units\n",
    "def tokenize_text(x):\n",
    "    if isinstance(x, str):  # Process only if it's a string\n",
    "        return word_tokenize(x)\n",
    "    else:\n",
    "        return []  # Return an empty list for non-string values\n",
    "\n",
    "data['Data'] = data['Data'].apply(tokenize_text)\n"
   ]
  },
  {
   "cell_type": "code",
   "execution_count": 12,
   "id": "1cd2afbf",
   "metadata": {},
   "outputs": [
    {
     "data": {
      "text/html": [
       "<div>\n",
       "<style scoped>\n",
       "    .dataframe tbody tr th:only-of-type {\n",
       "        vertical-align: middle;\n",
       "    }\n",
       "\n",
       "    .dataframe tbody tr th {\n",
       "        vertical-align: top;\n",
       "    }\n",
       "\n",
       "    .dataframe thead th {\n",
       "        text-align: right;\n",
       "    }\n",
       "</style>\n",
       "<table border=\"1\" class=\"dataframe\">\n",
       "  <thead>\n",
       "    <tr style=\"text-align: right;\">\n",
       "      <th></th>\n",
       "      <th>Data</th>\n",
       "      <th>Labels</th>\n",
       "    </tr>\n",
       "  </thead>\n",
       "  <tbody>\n",
       "    <tr>\n",
       "      <th>0</th>\n",
       "      <td>[path, cantaloupe, srv, cs, cmu, edu, magnesiu...</td>\n",
       "      <td>alt.atheism</td>\n",
       "    </tr>\n",
       "    <tr>\n",
       "      <th>1</th>\n",
       "      <td>[newsgroups, alt, atheism, path, cantaloupe, s...</td>\n",
       "      <td>alt.atheism</td>\n",
       "    </tr>\n",
       "  </tbody>\n",
       "</table>\n",
       "</div>"
      ],
      "text/plain": [
       "                                                Data       Labels\n",
       "0  [path, cantaloupe, srv, cs, cmu, edu, magnesiu...  alt.atheism\n",
       "1  [newsgroups, alt, atheism, path, cantaloupe, s...  alt.atheism"
      ]
     },
     "execution_count": 12,
     "metadata": {},
     "output_type": "execute_result"
    }
   ],
   "source": [
    "data.head(2)"
   ]
  },
  {
   "cell_type": "markdown",
   "id": "916997bf",
   "metadata": {},
   "source": [
    "###### Perform feature extraction to convert text data into a format that can be used by the Naive Bayes model, using techniques such as TF-IDF."
   ]
  },
  {
   "cell_type": "code",
   "execution_count": 13,
   "id": "6fd4a965",
   "metadata": {},
   "outputs": [],
   "source": [
    "# Extracting feature by using TfidfVectorizer technique\n",
    "from sklearn.feature_extraction.text import TfidfVectorizer\n",
    "\n",
    "# Converting tokenized data back to strings for TF-IDF\n",
    "data['Data'] = data['Data'].apply(lambda x: ' '.join(x))\n"
   ]
  },
  {
   "cell_type": "code",
   "execution_count": 14,
   "id": "8e28b015",
   "metadata": {},
   "outputs": [],
   "source": [
    "from sklearn.model_selection import train_test_split\n",
    "# Splitting dataset into training and testing sets\n",
    "blog_train,blog_test = train_test_split(data,test_size=0.3)"
   ]
  },
  {
   "cell_type": "code",
   "execution_count": 15,
   "id": "81ab8978",
   "metadata": {},
   "outputs": [],
   "source": [
    "# TF-IDF Vectorization\n",
    "\n",
    "tfidf = TfidfVectorizer(max_features=5000)  \n",
    "X_train_tfidf = tfidf.fit_transform(blog_train['Data'])\n",
    "X_test_tfidf = tfidf.transform(blog_test['Data'])"
   ]
  },
  {
   "cell_type": "code",
   "execution_count": 16,
   "id": "4d18a92a",
   "metadata": {},
   "outputs": [
    {
     "data": {
      "text/plain": [
       "<Compressed Sparse Row sparse matrix of dtype 'float64'\n",
       "\twith 68518 stored elements and shape (600, 5000)>"
      ]
     },
     "execution_count": 16,
     "metadata": {},
     "output_type": "execute_result"
    }
   ],
   "source": [
    "X_test_tfidf"
   ]
  },
  {
   "cell_type": "markdown",
   "id": "0559748a",
   "metadata": {},
   "source": [
    "### 2. Naive Bayes Model for Text Classification\n",
    "+ Split the data into training and test sets.\n",
    "+ Implement a Naive Bayes classifier to categorize the blog posts into their respective categories. You can use libraries like scikit-learn for this purpose.\n",
    "+ Train the model on the training set and make predictions on the test set."
   ]
  },
  {
   "cell_type": "markdown",
   "id": "e211f436",
   "metadata": {},
   "source": [
    "###### Split the data into training and test sets.\n",
    "The dataset is already been split into a ratio of 70,30 for extracting the features."
   ]
  },
  {
   "cell_type": "markdown",
   "id": "7fe236b8",
   "metadata": {},
   "source": [
    "###### Implement a Naive Bayes classifier to categorize the blog posts into their respective categories. You can use libraries like scikit-learn for this purpose."
   ]
  },
  {
   "cell_type": "code",
   "execution_count": 17,
   "id": "ba27a7a9",
   "metadata": {},
   "outputs": [],
   "source": [
    "from sklearn.naive_bayes import MultinomialNB\n",
    "\n",
    "# Initializing a Naive Bayes classifier\n",
    "nb_classifier = MultinomialNB()"
   ]
  },
  {
   "cell_type": "markdown",
   "id": "d7ebed56",
   "metadata": {},
   "source": [
    "###### Train the model on the training set and make predictions on the test set."
   ]
  },
  {
   "cell_type": "code",
   "execution_count": 18,
   "id": "b2db8307",
   "metadata": {},
   "outputs": [],
   "source": [
    "# Now train the Naive Bayes model\n",
    "nb_classifier = MultinomialNB()\n",
    "nb_classifier.fit(X_train_tfidf, blog_train['Labels'])\n",
    "\n",
    "# Making predictions\n",
    "y_pred = nb_classifier.predict(X_test_tfidf)\n"
   ]
  },
  {
   "cell_type": "markdown",
   "id": "71c9992e",
   "metadata": {},
   "source": [
    "### 3. Sentiment Analysis\n",
    "+ Choose a suitable library or method for performing sentiment analysis on the blog post texts.\n",
    "+ Analyze the sentiments expressed in the blog posts and categorize them as positive, negative, or neutral. Consider only the Data column and get the sentiment for each blog.\n",
    "+ Examine the distribution of sentiments across different categories and summarize your findings."
   ]
  },
  {
   "cell_type": "markdown",
   "id": "85e44ef6",
   "metadata": {},
   "source": [
    "###### Choose a suitable library or method for performing sentiment analysis on the blog post texts."
   ]
  },
  {
   "cell_type": "code",
   "execution_count": 19,
   "id": "29916b00",
   "metadata": {},
   "outputs": [],
   "source": [
    "from nltk.sentiment import SentimentIntensityAnalyzer\n",
    "\n",
    "#  VADER sentiment analyzer method is used to perform sentiment analysis\n",
    "sia = SentimentIntensityAnalyzer()\n",
    "\n",
    "# Defining the function to get sentiment scores\n",
    "def get_sentiment(text):\n",
    "    score = sia.polarity_scores(text)\n",
    "    if score['compound'] >= 0.05:\n",
    "        return \"Positive\"\n",
    "    elif score['compound'] <= -0.05:\n",
    "        return \"Negative\"\n",
    "    else:\n",
    "        return \"Neutral\"\n"
   ]
  },
  {
   "cell_type": "code",
   "execution_count": 20,
   "id": "a27e7f41",
   "metadata": {},
   "outputs": [],
   "source": [
    "data['Sentiment'] = data['Data'].apply(get_sentiment)"
   ]
  },
  {
   "cell_type": "code",
   "execution_count": 21,
   "id": "93dcc805",
   "metadata": {},
   "outputs": [
    {
     "data": {
      "text/html": [
       "<div>\n",
       "<style scoped>\n",
       "    .dataframe tbody tr th:only-of-type {\n",
       "        vertical-align: middle;\n",
       "    }\n",
       "\n",
       "    .dataframe tbody tr th {\n",
       "        vertical-align: top;\n",
       "    }\n",
       "\n",
       "    .dataframe thead th {\n",
       "        text-align: right;\n",
       "    }\n",
       "</style>\n",
       "<table border=\"1\" class=\"dataframe\">\n",
       "  <thead>\n",
       "    <tr style=\"text-align: right;\">\n",
       "      <th></th>\n",
       "      <th>Data</th>\n",
       "      <th>Sentiment</th>\n",
       "    </tr>\n",
       "  </thead>\n",
       "  <tbody>\n",
       "    <tr>\n",
       "      <th>0</th>\n",
       "      <td>path cantaloupe srv cs cmu edu magnesium club ...</td>\n",
       "      <td>Negative</td>\n",
       "    </tr>\n",
       "    <tr>\n",
       "      <th>1</th>\n",
       "      <td>newsgroups alt atheism path cantaloupe srv cs ...</td>\n",
       "      <td>Positive</td>\n",
       "    </tr>\n",
       "    <tr>\n",
       "      <th>2</th>\n",
       "      <td>path cantaloupe srv cs cmu edu das news harvar...</td>\n",
       "      <td>Negative</td>\n",
       "    </tr>\n",
       "    <tr>\n",
       "      <th>3</th>\n",
       "      <td>path cantaloupe srv cs cmu edu magnesium club ...</td>\n",
       "      <td>Negative</td>\n",
       "    </tr>\n",
       "    <tr>\n",
       "      <th>4</th>\n",
       "      <td>xref cantaloupe srv cs cmu edu alt atheism tal...</td>\n",
       "      <td>Positive</td>\n",
       "    </tr>\n",
       "  </tbody>\n",
       "</table>\n",
       "</div>"
      ],
      "text/plain": [
       "                                                Data Sentiment\n",
       "0  path cantaloupe srv cs cmu edu magnesium club ...  Negative\n",
       "1  newsgroups alt atheism path cantaloupe srv cs ...  Positive\n",
       "2  path cantaloupe srv cs cmu edu das news harvar...  Negative\n",
       "3  path cantaloupe srv cs cmu edu magnesium club ...  Negative\n",
       "4  xref cantaloupe srv cs cmu edu alt atheism tal...  Positive"
      ]
     },
     "execution_count": 21,
     "metadata": {},
     "output_type": "execute_result"
    }
   ],
   "source": [
    "data[['Data', 'Sentiment']].head()"
   ]
  },
  {
   "cell_type": "markdown",
   "id": "8e830a09",
   "metadata": {},
   "source": [
    "###### Analyze the sentiments expressed in the blog posts and categorize them as positive, negative, or neutral. Consider only the Data column and get the sentiment for each blog."
   ]
  },
  {
   "cell_type": "code",
   "execution_count": 22,
   "id": "1c3b5e2f",
   "metadata": {},
   "outputs": [],
   "source": [
    "import matplotlib.pyplot as plt\n",
    "import seaborn as sns\n",
    "\n",
    "# Counting the categories of sentiment.\n",
    "sentiment_counts = data['Sentiment'].value_counts()"
   ]
  },
  {
   "cell_type": "code",
   "execution_count": 23,
   "id": "41a56d88",
   "metadata": {},
   "outputs": [
    {
     "data": {
      "image/png": "[encoded data removed]",
      "text/plain": [
       "<Figure size 600x400 with 1 Axes>"
      ]
     },
     "metadata": {},
     "output_type": "display_data"
    }
   ],
   "source": [
    "plt.figure(figsize=(6, 4))\n",
    "sns.barplot(x=sentiment_counts.index, y=sentiment_counts.values, palette=\"coolwarm\")\n",
    "plt.title(\"Distribution of Sentiments in Blog Posts\")\n",
    "plt.xlabel(\"Sentiment\")\n",
    "plt.ylabel(\"Count\")\n",
    "plt.show()\n"
   ]
  },
  {
   "cell_type": "markdown",
   "id": "c3646838",
   "metadata": {},
   "source": [
    "###### Examine the distribution of sentiments across different categories and summarize your findings."
   ]
  },
  {
   "cell_type": "code",
   "execution_count": 24,
   "id": "e72d1dd1",
   "metadata": {},
   "outputs": [
    {
     "data": {
      "text/html": [
       "<div>\n",
       "<style scoped>\n",
       "    .dataframe tbody tr th:only-of-type {\n",
       "        vertical-align: middle;\n",
       "    }\n",
       "\n",
       "    .dataframe tbody tr th {\n",
       "        vertical-align: top;\n",
       "    }\n",
       "\n",
       "    .dataframe thead th {\n",
       "        text-align: right;\n",
       "    }\n",
       "</style>\n",
       "<table border=\"1\" class=\"dataframe\">\n",
       "  <thead>\n",
       "    <tr style=\"text-align: right;\">\n",
       "      <th>Sentiment</th>\n",
       "      <th>Negative</th>\n",
       "      <th>Neutral</th>\n",
       "      <th>Positive</th>\n",
       "    </tr>\n",
       "    <tr>\n",
       "      <th>Labels</th>\n",
       "      <th></th>\n",
       "      <th></th>\n",
       "      <th></th>\n",
       "    </tr>\n",
       "  </thead>\n",
       "  <tbody>\n",
       "    <tr>\n",
       "      <th>alt.atheism</th>\n",
       "      <td>46.0</td>\n",
       "      <td>1.0</td>\n",
       "      <td>53.0</td>\n",
       "    </tr>\n",
       "    <tr>\n",
       "      <th>comp.graphics</th>\n",
       "      <td>13.0</td>\n",
       "      <td>1.0</td>\n",
       "      <td>86.0</td>\n",
       "    </tr>\n",
       "    <tr>\n",
       "      <th>comp.os.ms-windows.misc</th>\n",
       "      <td>19.0</td>\n",
       "      <td>4.0</td>\n",
       "      <td>77.0</td>\n",
       "    </tr>\n",
       "    <tr>\n",
       "      <th>comp.sys.ibm.pc.hardware</th>\n",
       "      <td>25.0</td>\n",
       "      <td>4.0</td>\n",
       "      <td>71.0</td>\n",
       "    </tr>\n",
       "    <tr>\n",
       "      <th>comp.sys.mac.hardware</th>\n",
       "      <td>17.0</td>\n",
       "      <td>1.0</td>\n",
       "      <td>82.0</td>\n",
       "    </tr>\n",
       "    <tr>\n",
       "      <th>comp.windows.x</th>\n",
       "      <td>20.0</td>\n",
       "      <td>2.0</td>\n",
       "      <td>78.0</td>\n",
       "    </tr>\n",
       "    <tr>\n",
       "      <th>misc.forsale</th>\n",
       "      <td>7.0</td>\n",
       "      <td>11.0</td>\n",
       "      <td>82.0</td>\n",
       "    </tr>\n",
       "    <tr>\n",
       "      <th>rec.autos</th>\n",
       "      <td>32.0</td>\n",
       "      <td>2.0</td>\n",
       "      <td>66.0</td>\n",
       "    </tr>\n",
       "    <tr>\n",
       "      <th>rec.motorcycles</th>\n",
       "      <td>30.0</td>\n",
       "      <td>2.0</td>\n",
       "      <td>68.0</td>\n",
       "    </tr>\n",
       "    <tr>\n",
       "      <th>rec.sport.baseball</th>\n",
       "      <td>19.0</td>\n",
       "      <td>4.0</td>\n",
       "      <td>77.0</td>\n",
       "    </tr>\n",
       "    <tr>\n",
       "      <th>rec.sport.hockey</th>\n",
       "      <td>34.0</td>\n",
       "      <td>1.0</td>\n",
       "      <td>65.0</td>\n",
       "    </tr>\n",
       "    <tr>\n",
       "      <th>sci.crypt</th>\n",
       "      <td>24.0</td>\n",
       "      <td>NaN</td>\n",
       "      <td>76.0</td>\n",
       "    </tr>\n",
       "    <tr>\n",
       "      <th>sci.electronics</th>\n",
       "      <td>15.0</td>\n",
       "      <td>4.0</td>\n",
       "      <td>81.0</td>\n",
       "    </tr>\n",
       "    <tr>\n",
       "      <th>sci.med</th>\n",
       "      <td>27.0</td>\n",
       "      <td>2.0</td>\n",
       "      <td>71.0</td>\n",
       "    </tr>\n",
       "    <tr>\n",
       "      <th>sci.space</th>\n",
       "      <td>25.0</td>\n",
       "      <td>4.0</td>\n",
       "      <td>71.0</td>\n",
       "    </tr>\n",
       "    <tr>\n",
       "      <th>soc.religion.christian</th>\n",
       "      <td>21.0</td>\n",
       "      <td>2.0</td>\n",
       "      <td>77.0</td>\n",
       "    </tr>\n",
       "    <tr>\n",
       "      <th>talk.politics.guns</th>\n",
       "      <td>67.0</td>\n",
       "      <td>5.0</td>\n",
       "      <td>28.0</td>\n",
       "    </tr>\n",
       "    <tr>\n",
       "      <th>talk.politics.mideast</th>\n",
       "      <td>70.0</td>\n",
       "      <td>NaN</td>\n",
       "      <td>30.0</td>\n",
       "    </tr>\n",
       "    <tr>\n",
       "      <th>talk.politics.misc</th>\n",
       "      <td>49.0</td>\n",
       "      <td>1.0</td>\n",
       "      <td>50.0</td>\n",
       "    </tr>\n",
       "    <tr>\n",
       "      <th>talk.religion.misc</th>\n",
       "      <td>32.0</td>\n",
       "      <td>1.0</td>\n",
       "      <td>67.0</td>\n",
       "    </tr>\n",
       "  </tbody>\n",
       "</table>\n",
       "</div>"
      ],
      "text/plain": [
       "Sentiment                 Negative  Neutral  Positive\n",
       "Labels                                               \n",
       "alt.atheism                   46.0      1.0      53.0\n",
       "comp.graphics                 13.0      1.0      86.0\n",
       "comp.os.ms-windows.misc       19.0      4.0      77.0\n",
       "comp.sys.ibm.pc.hardware      25.0      4.0      71.0\n",
       "comp.sys.mac.hardware         17.0      1.0      82.0\n",
       "comp.windows.x                20.0      2.0      78.0\n",
       "misc.forsale                   7.0     11.0      82.0\n",
       "rec.autos                     32.0      2.0      66.0\n",
       "rec.motorcycles               30.0      2.0      68.0\n",
       "rec.sport.baseball            19.0      4.0      77.0\n",
       "rec.sport.hockey              34.0      1.0      65.0\n",
       "sci.crypt                     24.0      NaN      76.0\n",
       "sci.electronics               15.0      4.0      81.0\n",
       "sci.med                       27.0      2.0      71.0\n",
       "sci.space                     25.0      4.0      71.0\n",
       "soc.religion.christian        21.0      2.0      77.0\n",
       "talk.politics.guns            67.0      5.0      28.0\n",
       "talk.politics.mideast         70.0      NaN      30.0\n",
       "talk.politics.misc            49.0      1.0      50.0\n",
       "talk.religion.misc            32.0      1.0      67.0"
      ]
     },
     "execution_count": 24,
     "metadata": {},
     "output_type": "execute_result"
    }
   ],
   "source": [
    "# Group by blog category and sentiment\n",
    "sentiment_distribution = data.groupby(['Labels', 'Sentiment']).size().unstack()\n",
    "sentiment_distribution"
   ]
  },
  {
   "cell_type": "code",
   "execution_count": 25,
   "id": "5bf9f5d5",
   "metadata": {},
   "outputs": [
    {
     "data": {
      "image/png": "[encoded data removed]",
      "text/plain": [
       "<Figure size 1000x600 with 1 Axes>"
      ]
     },
     "metadata": {},
     "output_type": "display_data"
    }
   ],
   "source": [
    "# Visualizing sentiment distribution per category\n",
    "sentiment_distribution.plot(kind=\"bar\", stacked=True, figsize=(10, 6), colormap=\"viridis\")\n",
    "plt.title(\"Sentiment Analysis Across Blog Categories\")\n",
    "plt.xlabel(\"Blog Categories\")\n",
    "plt.ylabel(\"Number of Blogs\")\n",
    "plt.legend(title=\"Sentiment\")\n",
    "plt.show()"
   ]
  },
  {
   "cell_type": "markdown",
   "id": "c53eb19e",
   "metadata": {},
   "source": [
    "### 4. Evaluation\n",
    "+ Evaluate the performance of your Naive Bayes classifier using metrics such as accuracy, precision, recall, and F1-score.\n",
    "+ Discuss the performance of the model and any challenges encountered during the classification process.\n",
    "+ Reflect on the sentiment analysis results and their implications regarding the content of the blog posts."
   ]
  },
  {
   "cell_type": "markdown",
   "id": "12cc672e",
   "metadata": {},
   "source": [
    "###### Evaluate the performance of your Naive Bayes classifier using metrics such as accuracy, precision, recall, and F1-score."
   ]
  },
  {
   "cell_type": "code",
   "execution_count": 26,
   "id": "e55a57c1",
   "metadata": {},
   "outputs": [
    {
     "name": "stdout",
     "output_type": "stream",
     "text": [
      "Accuracy: 0.7716666666666666\n"
     ]
    }
   ],
   "source": [
    "from sklearn.metrics import accuracy_score, classification_report\n",
    "\n",
    "# accuracy\n",
    "print(\"Accuracy:\", accuracy_score(blog_test['Labels'], y_pred))"
   ]
  },
  {
   "cell_type": "code",
   "execution_count": 27,
   "id": "609ad045",
   "metadata": {},
   "outputs": [
    {
     "name": "stdout",
     "output_type": "stream",
     "text": [
      "                          precision    recall  f1-score   support\n",
      "\n",
      "             alt.atheism       0.81      0.68      0.74        31\n",
      "           comp.graphics       0.79      0.66      0.72        29\n",
      " comp.os.ms-windows.misc       0.85      0.91      0.88        32\n",
      "comp.sys.ibm.pc.hardware       0.43      0.92      0.59        25\n",
      "   comp.sys.mac.hardware       0.88      0.70      0.78        33\n",
      "          comp.windows.x       0.69      0.69      0.69        26\n",
      "            misc.forsale       0.90      0.82      0.86        33\n",
      "               rec.autos       1.00      0.77      0.87        35\n",
      "         rec.motorcycles       0.87      0.79      0.83        33\n",
      "      rec.sport.baseball       0.59      1.00      0.75        22\n",
      "        rec.sport.hockey       0.89      0.86      0.87        28\n",
      "               sci.crypt       0.96      0.84      0.90        31\n",
      "         sci.electronics       1.00      0.28      0.44        39\n",
      "                 sci.med       0.91      0.60      0.72        35\n",
      "               sci.space       0.73      0.97      0.83        31\n",
      "  soc.religion.christian       0.80      1.00      0.89        28\n",
      "      talk.politics.guns       0.61      0.92      0.73        25\n",
      "   talk.politics.mideast       0.82      0.90      0.86        31\n",
      "      talk.politics.misc       0.73      0.76      0.75        25\n",
      "      talk.religion.misc       0.72      0.64      0.68        28\n",
      "\n",
      "                accuracy                           0.77       600\n",
      "               macro avg       0.80      0.78      0.77       600\n",
      "            weighted avg       0.82      0.77      0.77       600\n",
      "\n"
     ]
    }
   ],
   "source": [
    "# Print classification report\n",
    "print(classification_report(blog_test['Labels'], y_pred))"
   ]
  },
  {
   "cell_type": "markdown",
   "id": "b1c78e0d",
   "metadata": {},
   "source": [
    "###### Discuss the performance of the model and any challenges encountered during the classification process.\n",
    "The Naive Bayes classifier achieved 77% accuracy, performing well in some categories but struggling with class imbalance and overlapping content. Misclassification was notable in sci.electronics, likely due to similar terms across topics. Improving performance could involve hyperparameter tuning, better text features, or advanced models like LSTMs or transformers."
   ]
  },
  {
   "cell_type": "markdown",
   "id": "e2a844e8",
   "metadata": {},
   "source": [
    "###### Reflect on the sentiment analysis results and their implications regarding the content of the blog posts.\n",
    "The results show that comp.graphics, misc.forsale have more positive sentiment, while political and religious discussions tend to be negative due to their controversial nature. This highlights content biases and suggests improvements in sentiment detection for nuanced text like sarcasm or debates."
   ]
  },
  {
   "cell_type": "code",
   "execution_count": null,
   "id": "faf418f0",
   "metadata": {},
   "outputs": [],
   "source": []
  }
 ],
 "metadata": {
  "kernelspec": {
   "display_name": "Python 3 (ipykernel)",
   "language": "python",
   "name": "python3"
  },
  "language_info": {
   "codemirror_mode": {
    "name": "ipython",
    "version": 3
   },
   "file_extension": ".py",
   "mimetype": "text/x-python",
   "name": "python",
   "nbconvert_exporter": "python",
   "pygments_lexer": "ipython3",
   "version": "3.10.9"
  }
 },
 "nbformat": 4,
 "nbformat_minor": 5
}
