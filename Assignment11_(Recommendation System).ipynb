{
 "cells": [
  {
   "cell_type": "markdown",
   "id": "52754e28",
   "metadata": {},
   "source": [
    "# Recommendation System\n",
    "\n",
    "### Objective:\n",
    "The objective of this assignment is to implement a recommendation system using cosine similarity on an anime dataset. \n",
    "Dataset:\n",
    "Use the Anime Dataset which contains information about various anime, including their titles, genres,No.of episodes and user ratings etc.\n",
    "\n",
    "### Tasks:\n",
    "1.Data Preprocessing:\n",
    "Load the dataset into a suitable data structure (e.g., pandas DataFrame).\n",
    "Handle missing values, if any.\n",
    "Explore the dataset to understand its structure and attributes.\n",
    "\n",
    "2.Feature Extraction:\n",
    "Decide on the features that will be used for computing similarity (e.g., genres, user ratings).\n",
    "Convert categorical features into numerical representations if necessary.\n",
    "Normalize numerical features if required.\n",
    "\n",
    "3.Recommendation System:\n",
    "Design a function to recommend anime based on cosine similarity.\n",
    "Given a target anime, recommend a list of similar anime based on cosine similarity scores.\n",
    "Experiment with different threshold values for similarity scores to adjust the recommendation list size.\n",
    "\n",
    "4.Evaluation:\n",
    "Split the dataset into training and testing sets.\n",
    "Evaluate the recommendation system using appropriate metrics such as precision, recall, and F1-score.\n",
    "Analyze the performance of the recommendation system and identify areas of improvement.\n",
    "\n",
    "### Interview Questions:\n",
    "1. Can you explain the difference between user-based and item-based collaborative filtering?\n",
    "2. What is collaborative filtering, and how does it work?"
   ]
  },
  {
   "cell_type": "markdown",
   "id": "2f491566",
   "metadata": {},
   "source": [
    "### Tasks\n",
    "1. Data Preprocessing: Load the dataset into a suitable data structure (e.g., pandas DataFrame). Handle missing values, if any. Explore the dataset to understand its structure and attributes."
   ]
  },
  {
   "cell_type": "code",
   "execution_count": 1,
   "id": "163ddf77",
   "metadata": {},
   "outputs": [],
   "source": [
    "import pandas as pd\n",
    "import numpy as np\n",
    "import matplotlib.pyplot as plt"
   ]
  },
  {
   "cell_type": "code",
   "execution_count": 2,
   "id": "66e2bf22",
   "metadata": {},
   "outputs": [
    {
     "data": {
      "text/html": [
       "<div>\n",
       "<style scoped>\n",
       "    .dataframe tbody tr th:only-of-type {\n",
       "        vertical-align: middle;\n",
       "    }\n",
       "\n",
       "    .dataframe tbody tr th {\n",
       "        vertical-align: top;\n",
       "    }\n",
       "\n",
       "    .dataframe thead th {\n",
       "        text-align: right;\n",
       "    }\n",
       "</style>\n",
       "<table border=\"1\" class=\"dataframe\">\n",
       "  <thead>\n",
       "    <tr style=\"text-align: right;\">\n",
       "      <th></th>\n",
       "      <th>anime_id</th>\n",
       "      <th>name</th>\n",
       "      <th>genre</th>\n",
       "      <th>type</th>\n",
       "      <th>episodes</th>\n",
       "      <th>rating</th>\n",
       "      <th>members</th>\n",
       "    </tr>\n",
       "  </thead>\n",
       "  <tbody>\n",
       "    <tr>\n",
       "      <th>0</th>\n",
       "      <td>32281</td>\n",
       "      <td>Kimi no Na wa.</td>\n",
       "      <td>Drama, Romance, School, Supernatural</td>\n",
       "      <td>Movie</td>\n",
       "      <td>1</td>\n",
       "      <td>9.37</td>\n",
       "      <td>200630</td>\n",
       "    </tr>\n",
       "    <tr>\n",
       "      <th>1</th>\n",
       "      <td>5114</td>\n",
       "      <td>Fullmetal Alchemist: Brotherhood</td>\n",
       "      <td>Action, Adventure, Drama, Fantasy, Magic, Mili...</td>\n",
       "      <td>TV</td>\n",
       "      <td>64</td>\n",
       "      <td>9.26</td>\n",
       "      <td>793665</td>\n",
       "    </tr>\n",
       "    <tr>\n",
       "      <th>2</th>\n",
       "      <td>28977</td>\n",
       "      <td>Gintama°</td>\n",
       "      <td>Action, Comedy, Historical, Parody, Samurai, S...</td>\n",
       "      <td>TV</td>\n",
       "      <td>51</td>\n",
       "      <td>9.25</td>\n",
       "      <td>114262</td>\n",
       "    </tr>\n",
       "    <tr>\n",
       "      <th>3</th>\n",
       "      <td>9253</td>\n",
       "      <td>Steins;Gate</td>\n",
       "      <td>Sci-Fi, Thriller</td>\n",
       "      <td>TV</td>\n",
       "      <td>24</td>\n",
       "      <td>9.17</td>\n",
       "      <td>673572</td>\n",
       "    </tr>\n",
       "    <tr>\n",
       "      <th>4</th>\n",
       "      <td>9969</td>\n",
       "      <td>Gintama&amp;#039;</td>\n",
       "      <td>Action, Comedy, Historical, Parody, Samurai, S...</td>\n",
       "      <td>TV</td>\n",
       "      <td>51</td>\n",
       "      <td>9.16</td>\n",
       "      <td>151266</td>\n",
       "    </tr>\n",
       "  </tbody>\n",
       "</table>\n",
       "</div>"
      ],
      "text/plain": [
       "   anime_id                              name  \\\n",
       "0     32281                    Kimi no Na wa.   \n",
       "1      5114  Fullmetal Alchemist: Brotherhood   \n",
       "2     28977                          Gintama°   \n",
       "3      9253                       Steins;Gate   \n",
       "4      9969                     Gintama&#039;   \n",
       "\n",
       "                                               genre   type episodes  rating  \\\n",
       "0               Drama, Romance, School, Supernatural  Movie        1    9.37   \n",
       "1  Action, Adventure, Drama, Fantasy, Magic, Mili...     TV       64    9.26   \n",
       "2  Action, Comedy, Historical, Parody, Samurai, S...     TV       51    9.25   \n",
       "3                                   Sci-Fi, Thriller     TV       24    9.17   \n",
       "4  Action, Comedy, Historical, Parody, Samurai, S...     TV       51    9.16   \n",
       "\n",
       "   members  \n",
       "0   200630  \n",
       "1   793665  \n",
       "2   114262  \n",
       "3   673572  \n",
       "4   151266  "
      ]
     },
     "execution_count": 2,
     "metadata": {},
     "output_type": "execute_result"
    }
   ],
   "source": [
    "data = pd.read_csv('anime.csv')\n",
    "data.head()"
   ]
  },
  {
   "cell_type": "code",
   "execution_count": 3,
   "id": "c8250cab",
   "metadata": {},
   "outputs": [
    {
     "data": {
      "text/plain": [
       "(12294, 7)"
      ]
     },
     "execution_count": 3,
     "metadata": {},
     "output_type": "execute_result"
    }
   ],
   "source": [
    "data.shape"
   ]
  },
  {
   "cell_type": "code",
   "execution_count": 4,
   "id": "7feb6b6f",
   "metadata": {},
   "outputs": [
    {
     "name": "stdout",
     "output_type": "stream",
     "text": [
      "<class 'pandas.core.frame.DataFrame'>\n",
      "RangeIndex: 12294 entries, 0 to 12293\n",
      "Data columns (total 7 columns):\n",
      " #   Column    Non-Null Count  Dtype  \n",
      "---  ------    --------------  -----  \n",
      " 0   anime_id  12294 non-null  int64  \n",
      " 1   name      12294 non-null  object \n",
      " 2   genre     12232 non-null  object \n",
      " 3   type      12269 non-null  object \n",
      " 4   episodes  12294 non-null  object \n",
      " 5   rating    12064 non-null  float64\n",
      " 6   members   12294 non-null  int64  \n",
      "dtypes: float64(1), int64(2), object(4)\n",
      "memory usage: 672.5+ KB\n"
     ]
    }
   ],
   "source": [
    "data.info()"
   ]
  },
  {
   "cell_type": "code",
   "execution_count": 5,
   "id": "045a21f9",
   "metadata": {},
   "outputs": [
    {
     "data": {
      "text/plain": [
       "anime_id      0\n",
       "name          0\n",
       "genre        62\n",
       "type         25\n",
       "episodes      0\n",
       "rating      230\n",
       "members       0\n",
       "dtype: int64"
      ]
     },
     "execution_count": 5,
     "metadata": {},
     "output_type": "execute_result"
    }
   ],
   "source": [
    "data.isnull().sum()"
   ]
  },
  {
   "cell_type": "code",
   "execution_count": 6,
   "id": "83475816",
   "metadata": {},
   "outputs": [],
   "source": [
    "# since genre,type and rating have null values we replace with value\n",
    "data['genre'].fillna('Unknown', inplace=True)  \n",
    "data['type'].fillna(data['type'].mode()[0], inplace=True)  \n",
    "data['rating'].fillna(data['rating'].mean(), inplace=True)  "
   ]
  },
  {
   "cell_type": "code",
   "execution_count": 7,
   "id": "4858bb04",
   "metadata": {},
   "outputs": [
    {
     "data": {
      "text/plain": [
       "anime_id    0\n",
       "name        0\n",
       "genre       0\n",
       "type        0\n",
       "episodes    0\n",
       "rating      0\n",
       "members     0\n",
       "dtype: int64"
      ]
     },
     "execution_count": 7,
     "metadata": {},
     "output_type": "execute_result"
    }
   ],
   "source": [
    "data.isnull().sum()"
   ]
  },
  {
   "cell_type": "code",
   "execution_count": 8,
   "id": "71fb13ca",
   "metadata": {},
   "outputs": [
    {
     "data": {
      "text/html": [
       "<div>\n",
       "<style scoped>\n",
       "    .dataframe tbody tr th:only-of-type {\n",
       "        vertical-align: middle;\n",
       "    }\n",
       "\n",
       "    .dataframe tbody tr th {\n",
       "        vertical-align: top;\n",
       "    }\n",
       "\n",
       "    .dataframe thead th {\n",
       "        text-align: right;\n",
       "    }\n",
       "</style>\n",
       "<table border=\"1\" class=\"dataframe\">\n",
       "  <thead>\n",
       "    <tr style=\"text-align: right;\">\n",
       "      <th></th>\n",
       "      <th>anime_id</th>\n",
       "      <th>rating</th>\n",
       "      <th>members</th>\n",
       "    </tr>\n",
       "  </thead>\n",
       "  <tbody>\n",
       "    <tr>\n",
       "      <th>count</th>\n",
       "      <td>12294.000000</td>\n",
       "      <td>12294.000000</td>\n",
       "      <td>1.229400e+04</td>\n",
       "    </tr>\n",
       "    <tr>\n",
       "      <th>mean</th>\n",
       "      <td>14058.221653</td>\n",
       "      <td>6.473902</td>\n",
       "      <td>1.807134e+04</td>\n",
       "    </tr>\n",
       "    <tr>\n",
       "      <th>std</th>\n",
       "      <td>11455.294701</td>\n",
       "      <td>1.017096</td>\n",
       "      <td>5.482068e+04</td>\n",
       "    </tr>\n",
       "    <tr>\n",
       "      <th>min</th>\n",
       "      <td>1.000000</td>\n",
       "      <td>1.670000</td>\n",
       "      <td>5.000000e+00</td>\n",
       "    </tr>\n",
       "    <tr>\n",
       "      <th>25%</th>\n",
       "      <td>3484.250000</td>\n",
       "      <td>5.900000</td>\n",
       "      <td>2.250000e+02</td>\n",
       "    </tr>\n",
       "    <tr>\n",
       "      <th>50%</th>\n",
       "      <td>10260.500000</td>\n",
       "      <td>6.550000</td>\n",
       "      <td>1.550000e+03</td>\n",
       "    </tr>\n",
       "    <tr>\n",
       "      <th>75%</th>\n",
       "      <td>24794.500000</td>\n",
       "      <td>7.170000</td>\n",
       "      <td>9.437000e+03</td>\n",
       "    </tr>\n",
       "    <tr>\n",
       "      <th>max</th>\n",
       "      <td>34527.000000</td>\n",
       "      <td>10.000000</td>\n",
       "      <td>1.013917e+06</td>\n",
       "    </tr>\n",
       "  </tbody>\n",
       "</table>\n",
       "</div>"
      ],
      "text/plain": [
       "           anime_id        rating       members\n",
       "count  12294.000000  12294.000000  1.229400e+04\n",
       "mean   14058.221653      6.473902  1.807134e+04\n",
       "std    11455.294701      1.017096  5.482068e+04\n",
       "min        1.000000      1.670000  5.000000e+00\n",
       "25%     3484.250000      5.900000  2.250000e+02\n",
       "50%    10260.500000      6.550000  1.550000e+03\n",
       "75%    24794.500000      7.170000  9.437000e+03\n",
       "max    34527.000000     10.000000  1.013917e+06"
      ]
     },
     "execution_count": 8,
     "metadata": {},
     "output_type": "execute_result"
    }
   ],
   "source": [
    "data.describe()"
   ]
  },
  {
   "cell_type": "code",
   "execution_count": 9,
   "id": "069080a6",
   "metadata": {},
   "outputs": [
    {
     "data": {
      "text/plain": [
       "6"
      ]
     },
     "execution_count": 9,
     "metadata": {},
     "output_type": "execute_result"
    }
   ],
   "source": [
    "data['type'].nunique()"
   ]
  },
  {
   "cell_type": "code",
   "execution_count": 10,
   "id": "2a4bf586",
   "metadata": {},
   "outputs": [
    {
     "data": {
      "text/plain": [
       "array(['Movie', 'TV', 'OVA', 'Special', 'Music', 'ONA'], dtype=object)"
      ]
     },
     "execution_count": 10,
     "metadata": {},
     "output_type": "execute_result"
    }
   ],
   "source": [
    "data['type'].unique()"
   ]
  },
  {
   "cell_type": "code",
   "execution_count": 11,
   "id": "50de3daf",
   "metadata": {},
   "outputs": [
    {
     "data": {
      "text/plain": [
       "TV         3812\n",
       "OVA        3311\n",
       "Movie      2348\n",
       "Special    1676\n",
       "ONA         659\n",
       "Music       488\n",
       "Name: type, dtype: int64"
      ]
     },
     "execution_count": 11,
     "metadata": {},
     "output_type": "execute_result"
    }
   ],
   "source": [
    "data['type'].value_counts() "
   ]
  },
  {
   "cell_type": "code",
   "execution_count": 12,
   "id": "9ae5d3b1",
   "metadata": {},
   "outputs": [
    {
     "data": {
      "text/plain": [
       "6.473902    230\n",
       "6.000000    141\n",
       "7.000000     99\n",
       "6.500000     90\n",
       "6.250000     84\n",
       "           ... \n",
       "3.470000      1\n",
       "3.710000      1\n",
       "3.870000      1\n",
       "3.910000      1\n",
       "3.140000      1\n",
       "Name: rating, Length: 599, dtype: int64"
      ]
     },
     "execution_count": 12,
     "metadata": {},
     "output_type": "execute_result"
    }
   ],
   "source": [
    "# rating given frequently\n",
    "data['rating'].value_counts()"
   ]
  },
  {
   "cell_type": "code",
   "execution_count": 13,
   "id": "6660c161",
   "metadata": {},
   "outputs": [
    {
     "data": {
      "image/png": "[encoded data removed]",
      "text/plain": [
       "<Figure size 700x300 with 1 Axes>"
      ]
     },
     "metadata": {},
     "output_type": "display_data"
    }
   ],
   "source": [
    "data['rating'].value_counts().plot(kind='bar', color='cornflowerblue', figsize=(7,3), \n",
    "                                     title='Highest Ratings', \n",
    "                                     xlabel='Ratings',\n",
    "                                     ylabel= 'Count of Ratings',\n",
    "                                     legend=True\n",
    "                                    )\n",
    "plt.show()"
   ]
  },
  {
   "cell_type": "markdown",
   "id": "29f06226",
   "metadata": {},
   "source": [
    "2.Feature Extraction: Decide on the features that will be used for computing similarity (e.g., genres, user ratings). Convert categorical features into numerical representations if necessary. Normalize numerical features if required."
   ]
  },
  {
   "cell_type": "code",
   "execution_count": 14,
   "id": "edec9429",
   "metadata": {},
   "outputs": [],
   "source": [
    "#Feature selection \n",
    "from sklearn.preprocessing import MultiLabelBinarizer, MinMaxScaler\n",
    "#Convert Categorical Feature into Numerical \n",
    "data['genre'] = data['genre'].apply(lambda x: x.split(', ') if isinstance(x, str) else [])\n",
    "# One-Hot Encoding for genres\n",
    "mlb = MultiLabelBinarizer()\n",
    "genre_encoded = pd.DataFrame(mlb.fit_transform(data['genre']), columns=mlb.classes_)\n",
    "data = pd.concat([data, genre_encoded], axis=1)\n",
    "data.drop(columns=['genre'], inplace=True) "
   ]
  },
  {
   "cell_type": "code",
   "execution_count": 15,
   "id": "96c2d7d4",
   "metadata": {},
   "outputs": [
    {
     "data": {
      "text/html": [
       "<div>\n",
       "<style scoped>\n",
       "    .dataframe tbody tr th:only-of-type {\n",
       "        vertical-align: middle;\n",
       "    }\n",
       "\n",
       "    .dataframe tbody tr th {\n",
       "        vertical-align: top;\n",
       "    }\n",
       "\n",
       "    .dataframe thead th {\n",
       "        text-align: right;\n",
       "    }\n",
       "</style>\n",
       "<table border=\"1\" class=\"dataframe\">\n",
       "  <thead>\n",
       "    <tr style=\"text-align: right;\">\n",
       "      <th></th>\n",
       "      <th>anime_id</th>\n",
       "      <th>name</th>\n",
       "      <th>type</th>\n",
       "      <th>episodes</th>\n",
       "      <th>rating</th>\n",
       "      <th>members</th>\n",
       "      <th>Action</th>\n",
       "      <th>Adventure</th>\n",
       "      <th>Cars</th>\n",
       "      <th>Comedy</th>\n",
       "      <th>...</th>\n",
       "      <th>Slice of Life</th>\n",
       "      <th>Space</th>\n",
       "      <th>Sports</th>\n",
       "      <th>Super Power</th>\n",
       "      <th>Supernatural</th>\n",
       "      <th>Thriller</th>\n",
       "      <th>Unknown</th>\n",
       "      <th>Vampire</th>\n",
       "      <th>Yaoi</th>\n",
       "      <th>Yuri</th>\n",
       "    </tr>\n",
       "  </thead>\n",
       "  <tbody>\n",
       "    <tr>\n",
       "      <th>0</th>\n",
       "      <td>32281</td>\n",
       "      <td>Kimi no Na wa.</td>\n",
       "      <td>Movie</td>\n",
       "      <td>1</td>\n",
       "      <td>0.924370</td>\n",
       "      <td>0.197872</td>\n",
       "      <td>0</td>\n",
       "      <td>0</td>\n",
       "      <td>0</td>\n",
       "      <td>0</td>\n",
       "      <td>...</td>\n",
       "      <td>0</td>\n",
       "      <td>0</td>\n",
       "      <td>0</td>\n",
       "      <td>0</td>\n",
       "      <td>1</td>\n",
       "      <td>0</td>\n",
       "      <td>0</td>\n",
       "      <td>0</td>\n",
       "      <td>0</td>\n",
       "      <td>0</td>\n",
       "    </tr>\n",
       "    <tr>\n",
       "      <th>1</th>\n",
       "      <td>5114</td>\n",
       "      <td>Fullmetal Alchemist: Brotherhood</td>\n",
       "      <td>TV</td>\n",
       "      <td>64</td>\n",
       "      <td>0.911164</td>\n",
       "      <td>0.782770</td>\n",
       "      <td>1</td>\n",
       "      <td>1</td>\n",
       "      <td>0</td>\n",
       "      <td>0</td>\n",
       "      <td>...</td>\n",
       "      <td>0</td>\n",
       "      <td>0</td>\n",
       "      <td>0</td>\n",
       "      <td>0</td>\n",
       "      <td>0</td>\n",
       "      <td>0</td>\n",
       "      <td>0</td>\n",
       "      <td>0</td>\n",
       "      <td>0</td>\n",
       "      <td>0</td>\n",
       "    </tr>\n",
       "    <tr>\n",
       "      <th>2</th>\n",
       "      <td>28977</td>\n",
       "      <td>Gintama°</td>\n",
       "      <td>TV</td>\n",
       "      <td>51</td>\n",
       "      <td>0.909964</td>\n",
       "      <td>0.112689</td>\n",
       "      <td>1</td>\n",
       "      <td>0</td>\n",
       "      <td>0</td>\n",
       "      <td>1</td>\n",
       "      <td>...</td>\n",
       "      <td>0</td>\n",
       "      <td>0</td>\n",
       "      <td>0</td>\n",
       "      <td>0</td>\n",
       "      <td>0</td>\n",
       "      <td>0</td>\n",
       "      <td>0</td>\n",
       "      <td>0</td>\n",
       "      <td>0</td>\n",
       "      <td>0</td>\n",
       "    </tr>\n",
       "    <tr>\n",
       "      <th>3</th>\n",
       "      <td>9253</td>\n",
       "      <td>Steins;Gate</td>\n",
       "      <td>TV</td>\n",
       "      <td>24</td>\n",
       "      <td>0.900360</td>\n",
       "      <td>0.664325</td>\n",
       "      <td>0</td>\n",
       "      <td>0</td>\n",
       "      <td>0</td>\n",
       "      <td>0</td>\n",
       "      <td>...</td>\n",
       "      <td>0</td>\n",
       "      <td>0</td>\n",
       "      <td>0</td>\n",
       "      <td>0</td>\n",
       "      <td>0</td>\n",
       "      <td>1</td>\n",
       "      <td>0</td>\n",
       "      <td>0</td>\n",
       "      <td>0</td>\n",
       "      <td>0</td>\n",
       "    </tr>\n",
       "    <tr>\n",
       "      <th>4</th>\n",
       "      <td>9969</td>\n",
       "      <td>Gintama&amp;#039;</td>\n",
       "      <td>TV</td>\n",
       "      <td>51</td>\n",
       "      <td>0.899160</td>\n",
       "      <td>0.149186</td>\n",
       "      <td>1</td>\n",
       "      <td>0</td>\n",
       "      <td>0</td>\n",
       "      <td>1</td>\n",
       "      <td>...</td>\n",
       "      <td>0</td>\n",
       "      <td>0</td>\n",
       "      <td>0</td>\n",
       "      <td>0</td>\n",
       "      <td>0</td>\n",
       "      <td>0</td>\n",
       "      <td>0</td>\n",
       "      <td>0</td>\n",
       "      <td>0</td>\n",
       "      <td>0</td>\n",
       "    </tr>\n",
       "  </tbody>\n",
       "</table>\n",
       "<p>5 rows × 50 columns</p>\n",
       "</div>"
      ],
      "text/plain": [
       "   anime_id                              name   type episodes    rating  \\\n",
       "0     32281                    Kimi no Na wa.  Movie        1  0.924370   \n",
       "1      5114  Fullmetal Alchemist: Brotherhood     TV       64  0.911164   \n",
       "2     28977                          Gintama°     TV       51  0.909964   \n",
       "3      9253                       Steins;Gate     TV       24  0.900360   \n",
       "4      9969                     Gintama&#039;     TV       51  0.899160   \n",
       "\n",
       "    members  Action  Adventure  Cars  Comedy  ...  Slice of Life  Space  \\\n",
       "0  0.197872       0          0     0       0  ...              0      0   \n",
       "1  0.782770       1          1     0       0  ...              0      0   \n",
       "2  0.112689       1          0     0       1  ...              0      0   \n",
       "3  0.664325       0          0     0       0  ...              0      0   \n",
       "4  0.149186       1          0     0       1  ...              0      0   \n",
       "\n",
       "   Sports  Super Power  Supernatural  Thriller  Unknown  Vampire  Yaoi  Yuri  \n",
       "0       0            0             1         0        0        0     0     0  \n",
       "1       0            0             0         0        0        0     0     0  \n",
       "2       0            0             0         0        0        0     0     0  \n",
       "3       0            0             0         1        0        0     0     0  \n",
       "4       0            0             0         0        0        0     0     0  \n",
       "\n",
       "[5 rows x 50 columns]"
      ]
     },
     "execution_count": 15,
     "metadata": {},
     "output_type": "execute_result"
    }
   ],
   "source": [
    "# Normalize Numerical Features \n",
    "scaler = MinMaxScaler()\n",
    "data[['rating', 'members']] = scaler.fit_transform(data[['rating', 'members']])\n",
    "data.head()"
   ]
  },
  {
   "cell_type": "code",
   "execution_count": 16,
   "id": "674bdfa3",
   "metadata": {},
   "outputs": [],
   "source": [
    "features = data.set_index('name').drop(columns=['anime_id', 'type', 'episodes'])\n",
    "scaler = MinMaxScaler()\n",
    "features[['rating', 'members']] = scaler.fit_transform(features[['rating', 'members']])\n",
    "    "
   ]
  },
  {
   "cell_type": "markdown",
   "id": "03534d46",
   "metadata": {},
   "source": [
    "3.Recommendation System: Design a function to recommend anime based on cosine similarity. Given a target anime, recommend a list of similar anime based on cosine similarity scores. Experiment with different threshold values for similarity scores to adjust the recommendation list size."
   ]
  },
  {
   "cell_type": "code",
   "execution_count": 17,
   "id": "687b0e9d",
   "metadata": {},
   "outputs": [],
   "source": [
    "from sklearn.metrics.pairwise import cosine_similarity\n",
    "# Item-Based Collaborative Filtering\n",
    "def recommend_anime(target_anime, similarity_threshold=0.5):\n",
    "    similarity_matrix = cosine_similarity(features)\n",
    "    similarity_df = pd.DataFrame(similarity_matrix, index=features.index, columns=features.index)\n",
    "    if target_anime in similarity_df.index:\n",
    "        similar_animes = similarity_df[target_anime][similarity_df[target_anime] >= similarity_threshold].sort_values(ascending=False).drop(target_anime)\n",
    "        return similar_animes\n",
    "    else:\n",
    "        return f\"Anime '{target_anime}' not found in dataset.\"\n",
    "\n"
   ]
  },
  {
   "cell_type": "code",
   "execution_count": 18,
   "id": "3ea68cef",
   "metadata": {},
   "outputs": [
    {
     "name": "stdout",
     "output_type": "stream",
     "text": [
      "name\n",
      "Steins;Gate Movie: Fuka Ryouiki no Déjà vu                                                      0.965280\n",
      "Steins;Gate: Oukoubakko no Poriomania                                                           0.959832\n",
      "Steins;Gate: Kyoukaimenjou no Missing Link - Divide By Zero                                     0.936704\n",
      "Steins;Gate 0                                                                                   0.928487\n",
      "Under the Dog                                                                                   0.772375\n",
      "Loups=Garous                                                                                    0.766948\n",
      "Loups=Garous Pilot                                                                              0.754471\n",
      "Final Fantasy: The Spirits Within                                                               0.746294\n",
      "Sakasama no Patema: Beginning of the Day                                                        0.745569\n",
      "Mai-Otome 0: S.ifr                                                                              0.743822\n",
      "Kaitei Toshi no Dekiru made                                                                     0.743615\n",
      "Subarashii Sekai Ryokou: New York Tabi &quot;Computopia Seireki Nisennen no Monogatari&quot;    0.743607\n",
      "Glass no Hana to Kowasu Sekai                                                                   0.741045\n",
      "Fireball Charming                                                                               0.737280\n",
      "Shitamachi Alien PapiPipiPupi                                                                   0.736203\n",
      "Je T&#039;aime                                                                                  0.735050\n",
      "Arata naru Sekai: World&#039;s/Start/Load/End                                                   0.734267\n",
      "Garon                                                                                           0.734043\n",
      "Hoshi no Ko Poron                                                                               0.733548\n",
      "Computer Kakumei: Saikyou x Saisoku no Zunou Tanjou                                             0.733118\n",
      "Kyoto Animation: Megane-hen                                                                     0.732085\n",
      "Mirai Arise                                                                                     0.731069\n",
      "Escha Chron                                                                                     0.730051\n",
      "Yuusei Kamen                                                                                    0.729353\n",
      "Kyoto Animation: Ikitaku Naru Omise-hen                                                         0.729160\n",
      "Amanatsu                                                                                        0.728271\n",
      "Fumoon                                                                                          0.727970\n",
      "Marine Snow no Densetsu                                                                         0.727614\n",
      "Mou Hitotsu no Mirai wo.                                                                        0.727609\n",
      "100-man-nen Chikyuu no Tabi: Bander Book                                                        0.726769\n",
      "Saint Elmo: Hikari no Raihousha                                                                 0.726524\n",
      "Nanocore                                                                                        0.725247\n",
      "Daikyouryuu Jidai                                                                               0.724955\n",
      "Ginga Tansa 2100-nen: Border Planet                                                             0.724476\n",
      "Adachi-ga Hara                                                                                  0.723859\n",
      "Honey Tokyo                                                                                     0.720577\n",
      "Al Caral no Isan                                                                                0.720006\n",
      "Utopa                                                                                           0.719367\n",
      "Dimension Loop                                                                                  0.718991\n",
      "R20: Ginga Kuukou                                                                               0.717205\n",
      "Prayers                                                                                         0.714653\n",
      "Top wo Nerae 2! Kagaku Kouza                                                                    0.712419\n",
      "Ima no Watashi ni Dekiru Koto...                                                                0.710229\n",
      "A.LI.CE                                                                                         0.710035\n",
      "Plus 50000-nen                                                                                  0.702370\n",
      "RoboDz                                                                                          0.700284\n",
      "Name: Steins;Gate, dtype: float64\n"
     ]
    }
   ],
   "source": [
    "target_anime = 'Steins;Gate'\n",
    "similarity_threshold = 0.7  \n",
    "top_recommendations = recommend_anime(target_anime, similarity_threshold)\n",
    "print(top_recommendations)"
   ]
  },
  {
   "cell_type": "markdown",
   "id": "ddf4cc02",
   "metadata": {},
   "source": [
    "4.Evaluation: Split the dataset into training and testing sets. Evaluate the recommendation system using appropriate metrics such as precision, recall, and F1-score. Analyze the performance of the recommendation system and identify areas of improvement."
   ]
  },
  {
   "cell_type": "code",
   "execution_count": 19,
   "id": "fd8b2151",
   "metadata": {},
   "outputs": [],
   "source": [
    "from sklearn.model_selection import train_test_split\n",
    "# Evaluation\n",
    "X = data.drop(columns=['rating', 'name', 'anime_id', 'type', 'episodes'])\n",
    "y = data['rating']\n",
    "X_train, X_test, y_train, y_test = train_test_split(X, y, test_size=0.2, random_state=42)"
   ]
  },
  {
   "cell_type": "code",
   "execution_count": 20,
   "id": "f1c973fb",
   "metadata": {},
   "outputs": [],
   "source": [
    "from sklearn.linear_model import LinearRegression\n",
    "model = LinearRegression()\n",
    "model.fit(X_train, y_train)\n",
    "y_pred = model.predict(X_test)\n",
    "y_pred_bin = (y_pred > 0.7).astype(int)\n",
    "y_test_bin = (y_test > 0.7).astype(int)"
   ]
  },
  {
   "cell_type": "code",
   "execution_count": 21,
   "id": "edffb7cc",
   "metadata": {},
   "outputs": [
    {
     "name": "stdout",
     "output_type": "stream",
     "text": [
      "Precision: 0.752\n",
      "Recall: 0.26857142857142857\n",
      "F1-Score: 0.3957894736842105\n"
     ]
    }
   ],
   "source": [
    "from sklearn.metrics import precision_score, recall_score, f1_score\n",
    "precision = precision_score(y_test_bin, y_pred_bin)\n",
    "recall = recall_score(y_test_bin, y_pred_bin)\n",
    "f1 = f1_score(y_test_bin, y_pred_bin)\n",
    "print(f\"Precision: {precision}\")\n",
    "print(f\"Recall: {recall}\")\n",
    "print(f\"F1-Score: {f1}\")"
   ]
  },
  {
   "cell_type": "markdown",
   "id": "572dd0ed",
   "metadata": {},
   "source": [
    "###### Analyze the performance of the recommendation system and identify areas of improvement.\n",
    "+ The recommendation system shows good precision (0.752) but has low recall (0.2686), meaning it misses many relevant anime. To improve, the recall can be increased by lowering the similarity threshold, exploring hybrid models, and fine-tuning feature selection. A more complex model or adjusting the recommendation approach could lead to better overall performance."
   ]
  },
  {
   "cell_type": "markdown",
   "id": "3b81a54a",
   "metadata": {},
   "source": [
    "### Interview Questions:\n",
    "1. Can you explain the difference between user-based and item-based collaborative filtering?\n",
    "\n",
    "+ User-based collaborative filtering recommends items by finding users with similar preferences and suggesting items they liked. Item-based collaborative filtering, on the other hand, recommends items that are similar to the ones a user has already liked or interacted with, based on item similarities. Both methods aim to predict a user's interest, but they differ in the focus of similarity—users versus items.\n",
    "\n",
    "2. What is collaborative filtering, and how does it work?\n",
    "\n",
    "+ Collaborative filtering is a recommendation technique that predicts a user's preferences based on the preferences of similar users or items. It works by identifying patterns in user behavior, such as ratings or interactions, and recommending items that similar users have liked (user-based) or finding items that are similar to what the user has already liked (item-based). The core idea is to leverage the collective knowledge of a community to make personalized recommendations."
   ]
  },
  {
   "cell_type": "code",
   "execution_count": null,
   "id": "867f89d3",
   "metadata": {},
   "outputs": [],
   "source": []
  }
 ],
 "metadata": {
  "kernelspec": {
   "display_name": "Python 3 (ipykernel)",
   "language": "python",
   "name": "python3"
  },
  "language_info": {
   "codemirror_mode": {
    "name": "ipython",
    "version": 3
   },
   "file_extension": ".py",
   "mimetype": "text/x-python",
   "name": "python",
   "nbconvert_exporter": "python",
   "pygments_lexer": "ipython3",
   "version": "3.10.9"
  }
 },
 "nbformat": 4,
 "nbformat_minor": 5
}
