{
 "cells": [
  {
   "cell_type": "markdown",
   "id": "42ef7768",
   "metadata": {},
   "source": [
    "# PYTHON PROGRAMMING ASSIGNMENT\n",
    "###                                                      Coding Exercises"
   ]
  },
  {
   "cell_type": "markdown",
   "id": "34a6774c",
   "metadata": {},
   "source": [
    "### Exercise 1: Prime Numbers\n",
    "Write a Python program that checks whether a given number is prime or not. A prime number is a natural number greater than 1 that has no positive divisors other than 1 and itself.\n"
   ]
  },
  {
   "cell_type": "code",
   "execution_count": 1,
   "id": "6aff8de0",
   "metadata": {},
   "outputs": [],
   "source": [
    "#Defining a fuction to check weather number is prime or not\n",
    "def is_prime(number):\n",
    "    if number <= 1:\n",
    "        return False\n",
    "    for i in range(2, number):\n",
    "        if number % i == 0:\n",
    "            return False\n",
    "    return True"
   ]
  },
  {
   "cell_type": "code",
   "execution_count": 2,
   "id": "3e5a4e2e",
   "metadata": {},
   "outputs": [
    {
     "name": "stdout",
     "output_type": "stream",
     "text": [
      "Enter a number: 7\n"
     ]
    }
   ],
   "source": [
    "# Input from the user\n",
    "num = int(input(\"Enter a number: \"))"
   ]
  },
  {
   "cell_type": "code",
   "execution_count": 3,
   "id": "9351c534",
   "metadata": {},
   "outputs": [
    {
     "name": "stdout",
     "output_type": "stream",
     "text": [
      "7 is a prime number.\n"
     ]
    }
   ],
   "source": [
    "if is_prime(num):\n",
    "    print(f\"{num} is a prime number.\")\n",
    "else:\n",
    "    print(f\"{num} is not a prime number.\")"
   ]
  },
  {
   "cell_type": "markdown",
   "id": "71e4f122",
   "metadata": {},
   "source": [
    "### Exercise 2: Product of Random Numbers\n",
    "Develop a Python program that generates two random numbers and asks the user to enter the product of these numbers. The program should then check if the user's answer is correct and display an appropriate message.\n"
   ]
  },
  {
   "cell_type": "code",
   "execution_count": 4,
   "id": "d565d1a7",
   "metadata": {},
   "outputs": [],
   "source": [
    "import random\n",
    "\n",
    "# Here Generating two random numbers between 1 and 10\n",
    "num1 = random.randint(1, 10)\n",
    "num2 = random.randint(1, 10)\n"
   ]
  },
  {
   "cell_type": "code",
   "execution_count": 5,
   "id": "a19dc738",
   "metadata": {},
   "outputs": [
    {
     "name": "stdout",
     "output_type": "stream",
     "text": [
      "What is the product of 7 and 9? 63\n"
     ]
    }
   ],
   "source": [
    "user_answer = int(input(f\"What is the product of {num1} and {num2}? \"))\n",
    "correct_answer = num1 * num2"
   ]
  },
  {
   "cell_type": "code",
   "execution_count": 6,
   "id": "bb578355",
   "metadata": {},
   "outputs": [
    {
     "name": "stdout",
     "output_type": "stream",
     "text": [
      "Correct! Well done.\n"
     ]
    }
   ],
   "source": [
    "if user_answer == correct_answer:\n",
    "    print(\"Correct! Well done.\")\n",
    "else:\n",
    "    print(f\"Incorrect. The correct answer is {correct_answer}.\")\n"
   ]
  },
  {
   "cell_type": "markdown",
   "id": "e6cf1275",
   "metadata": {},
   "source": [
    "### Exercise 3: Squares of Even/Odd Numbers\n",
    "Create a Python script that prints the squares of all even or odd numbers within the range of 100 to 200. Choose either even or odd numbers and document your choice in the code.\n"
   ]
  },
  {
   "cell_type": "code",
   "execution_count": 7,
   "id": "a2beec3f",
   "metadata": {},
   "outputs": [
    {
     "name": "stdout",
     "output_type": "stream",
     "text": [
      "Square of 100 is 10000\n",
      "Square of 102 is 10404\n",
      "Square of 104 is 10816\n",
      "Square of 106 is 11236\n",
      "Square of 108 is 11664\n",
      "Square of 110 is 12100\n",
      "Square of 112 is 12544\n",
      "Square of 114 is 12996\n",
      "Square of 116 is 13456\n",
      "Square of 118 is 13924\n",
      "Square of 120 is 14400\n",
      "Square of 122 is 14884\n",
      "Square of 124 is 15376\n",
      "Square of 126 is 15876\n",
      "Square of 128 is 16384\n",
      "Square of 130 is 16900\n",
      "Square of 132 is 17424\n",
      "Square of 134 is 17956\n",
      "Square of 136 is 18496\n",
      "Square of 138 is 19044\n",
      "Square of 140 is 19600\n",
      "Square of 142 is 20164\n",
      "Square of 144 is 20736\n",
      "Square of 146 is 21316\n",
      "Square of 148 is 21904\n",
      "Square of 150 is 22500\n",
      "Square of 152 is 23104\n",
      "Square of 154 is 23716\n",
      "Square of 156 is 24336\n",
      "Square of 158 is 24964\n",
      "Square of 160 is 25600\n",
      "Square of 162 is 26244\n",
      "Square of 164 is 26896\n",
      "Square of 166 is 27556\n",
      "Square of 168 is 28224\n",
      "Square of 170 is 28900\n",
      "Square of 172 is 29584\n",
      "Square of 174 is 30276\n",
      "Square of 176 is 30976\n",
      "Square of 178 is 31684\n",
      "Square of 180 is 32400\n",
      "Square of 182 is 33124\n",
      "Square of 184 is 33856\n",
      "Square of 186 is 34596\n",
      "Square of 188 is 35344\n",
      "Square of 190 is 36100\n",
      "Square of 192 is 36864\n",
      "Square of 194 is 37636\n",
      "Square of 196 is 38416\n",
      "Square of 198 is 39204\n",
      "Square of 200 is 40000\n"
     ]
    }
   ],
   "source": [
    "for num in range(100, 201):\n",
    "    if num % 2 == 0:\n",
    "        print(f\"Square of {num} is {num ** 2}\")\n"
   ]
  },
  {
   "cell_type": "markdown",
   "id": "7723ace2",
   "metadata": {},
   "source": [
    "### Exercise 4: Word counter\n",
    "write a program to count the number of words in a given text."
   ]
  },
  {
   "cell_type": "code",
   "execution_count": 8,
   "id": "0ec698a3",
   "metadata": {},
   "outputs": [],
   "source": [
    "def word_counter(text):\n",
    "    words = text.split()  # Split the text into words\n",
    "    word_count = {}  # Dictionary to store word counts\n",
    "\n",
    "    for word in words:\n",
    "        word = word.strip(\".,!?\")  # Remove punctuation\n",
    "        word_count[word] = word_count.get(word, 0) + 1  # Count words\n",
    "\n",
    "    return word_count"
   ]
  },
  {
   "cell_type": "code",
   "execution_count": 9,
   "id": "8e89992d",
   "metadata": {},
   "outputs": [
    {
     "name": "stdout",
     "output_type": "stream",
     "text": [
      "Enter a text: This is a sample text. This text will be used to demonstrate the word counter\n"
     ]
    }
   ],
   "source": [
    "input_text = input(\"Enter a text: \")"
   ]
  },
  {
   "cell_type": "code",
   "execution_count": 10,
   "id": "39fda1a4",
   "metadata": {},
   "outputs": [],
   "source": [
    "# Count words\n",
    "word_counts = word_counter(input_text)"
   ]
  },
  {
   "cell_type": "code",
   "execution_count": 11,
   "id": "ac575122",
   "metadata": {},
   "outputs": [
    {
     "name": "stdout",
     "output_type": "stream",
     "text": [
      "'This': 2\n",
      "'is': 1\n",
      "'a': 1\n",
      "'sample': 1\n",
      "'text': 2\n",
      "'will': 1\n",
      "'be': 1\n",
      "'used': 1\n",
      "'to': 1\n",
      "'demonstrate': 1\n",
      "'the': 1\n",
      "'word': 1\n",
      "'counter': 1\n"
     ]
    }
   ],
   "source": [
    "# Display word counts\n",
    "for word, count in word_counts.items():\n",
    "    print(f\"'{word}': {count}\")"
   ]
  },
  {
   "cell_type": "markdown",
   "id": "3633e4d5",
   "metadata": {},
   "source": [
    "### Exercise 5: Check for Palindrome\n",
    "Write a Python function called is_palindrome that takes a string as input and returns True if the string is a palindrome, and False otherwise. A palindrome is a word, phrase, number, or other sequence of characters that reads the same forward and backward, ignoring spaces, punctuation, and capitalization.\n"
   ]
  },
  {
   "cell_type": "code",
   "execution_count": 12,
   "id": "d7ce41c2",
   "metadata": {},
   "outputs": [],
   "source": [
    "import re"
   ]
  },
  {
   "cell_type": "code",
   "execution_count": 13,
   "id": "91658c07",
   "metadata": {},
   "outputs": [],
   "source": [
    "def is_palindrome(text):\n",
    "    cleaned_text = re.sub(r'[^a-zA-Z0-9]', '', text).lower()\n",
    "    return cleaned_text == cleaned_text[::-1]"
   ]
  },
  {
   "cell_type": "code",
   "execution_count": 14,
   "id": "79feca7a",
   "metadata": {},
   "outputs": [
    {
     "name": "stdout",
     "output_type": "stream",
     "text": [
      "Enter a word or phrase: level\n"
     ]
    }
   ],
   "source": [
    "input_text = input(\"Enter a word or phrase: \")"
   ]
  },
  {
   "cell_type": "code",
   "execution_count": 15,
   "id": "626ddf08",
   "metadata": {},
   "outputs": [
    {
     "name": "stdout",
     "output_type": "stream",
     "text": [
      "True\n"
     ]
    }
   ],
   "source": [
    "print(is_palindrome(input_text))"
   ]
  }
 ],
 "metadata": {
  "kernelspec": {
   "display_name": "Python 3 (ipykernel)",
   "language": "python",
   "name": "python3"
  },
  "language_info": {
   "codemirror_mode": {
    "name": "ipython",
    "version": 3
   },
   "file_extension": ".py",
   "mimetype": "text/x-python",
   "name": "python",
   "nbconvert_exporter": "python",
   "pygments_lexer": "ipython3",
   "version": "3.10.9"
  }
 },
 "nbformat": 4,
 "nbformat_minor": 5
}
